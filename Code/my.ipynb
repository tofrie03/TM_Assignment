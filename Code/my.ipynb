{
 "cells": [
  {
   "cell_type": "code",
   "execution_count": 23,
   "metadata": {},
   "outputs": [],
   "source": [
    "import pandas as pd\n",
    "import matplotlib as plt\n",
    "import numpy as np\n",
    "# import yfinance as yf"
   ]
  },
  {
   "cell_type": "code",
   "execution_count": 24,
   "metadata": {},
   "outputs": [],
   "source": [
    "pd.set_option('display.max_columns', 10)\n",
    "pd.set_option('display.width', 150)"
   ]
  },
  {
   "cell_type": "code",
   "execution_count": 25,
   "metadata": {},
   "outputs": [
    {
     "name": "stdout",
     "output_type": "stream",
     "text": [
      "                           Date          Open          High           Low         Close       Volume  Dividends  Stock Splits\n",
      "0     2015-04-03 00:00:00+00:00    232.840195    235.203934    231.506439    231.707367     21088375        0.0           0.0\n",
      "1     2015-04-04 00:00:00+00:00    231.679123    232.560120    228.771866    231.137939     11382562        0.0           0.0\n",
      "2     2015-04-05 00:00:00+00:00    231.196243    236.762024    229.539001    237.036560     17872658        0.0           0.0\n",
      "3     2015-04-06 00:00:00+00:00    237.148453    238.453415    231.853363    233.688843     18324522        0.0           0.0\n",
      "4     2015-04-07 00:00:00+00:00    233.489441    233.932327    230.513672    233.992599     17067837        0.0           0.0\n",
      "...                         ...           ...           ...           ...           ...          ...        ...           ...\n",
      "3649  2025-03-30 00:00:00+00:00  77561.562500  77759.492188  75062.429688  75948.312500  15603325807        0.0           0.0\n",
      "3650  2025-03-31 00:00:00+00:00  75947.757812  76782.679688  75479.070312  76068.453125  13640164917        0.0           0.0\n",
      "3651  2025-04-01 00:00:00+00:00  76069.875000  77608.039062  75003.851562  76306.070312  26810754481        0.0           0.0\n",
      "3652  2025-04-02 00:00:00+00:00  76308.843750  79155.062500  76164.234375  78896.289062  26100457322        0.0           0.0\n",
      "3653  2025-04-03 00:00:00+00:00  75655.984375  75730.898438  73488.765625  74736.226562  35242651648        0.0           0.0\n",
      "\n",
      "[3654 rows x 8 columns]\n"
     ]
    }
   ],
   "source": [
    "url = 'https://raw.githubusercontent.com/tofrie03/TM_Assignment/refs/heads/main/Material/btc_historical_EUR_10y.csv'\n",
    "\n",
    "df = pd.read_csv(url)\n",
    "\n",
    "print(df)"
   ]
  },
  {
   "cell_type": "code",
   "execution_count": null,
   "metadata": {},
   "outputs": [],
   "source": []
  }
 ],
 "metadata": {
  "kernelspec": {
   "display_name": "Python 3",
   "language": "python",
   "name": "python3"
  },
  "language_info": {
   "codemirror_mode": {
    "name": "ipython",
    "version": 3
   },
   "file_extension": ".py",
   "mimetype": "text/x-python",
   "name": "python",
   "nbconvert_exporter": "python",
   "pygments_lexer": "ipython3",
   "version": "3.13.2"
  }
 },
 "nbformat": 4,
 "nbformat_minor": 2
}
